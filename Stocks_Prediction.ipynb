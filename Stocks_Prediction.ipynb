{
  "nbformat": 4,
  "nbformat_minor": 0,
  "metadata": {
    "colab": {
      "name": "Stocks Prediction.ipynb",
      "provenance": []
    },
    "kernelspec": {
      "name": "python3",
      "display_name": "Python 3"
    }
  },
  "cells": [
    {
      "cell_type": "code",
      "metadata": {
        "id": "-E5ahwxYfDCW"
      },
      "source": [
        "#!unzip '/content/prices-split-adjusted.csv.zip' -d Data"
      ],
      "execution_count": 44,
      "outputs": []
    },
    {
      "cell_type": "code",
      "metadata": {
        "id": "DBfO8gxPc99d"
      },
      "source": [
        "import pandas as pd\r\n",
        "import math\r\n",
        "import sklearn\r\n",
        "import sklearn.preprocessing\r\n",
        "import datetime\r\n",
        "import os\r\n",
        "import matplotlib.pyplot as plt\r\n",
        "import numpy as np\r\n",
        "\r\n",
        "\r\n",
        "# split data in 80%/10%/10% train/validation/test sets\r\n",
        "valid_set_size_percentage = 10 \r\n",
        "test_set_size_percentage = 10 \r\n"
      ],
      "execution_count": 4,
      "outputs": []
    },
    {
      "cell_type": "code",
      "metadata": {
        "colab": {
          "base_uri": "https://localhost:8080/",
          "height": 836
        },
        "id": "D7EAMrzdlrah",
        "outputId": "45bec251-185e-4587-86b4-18d5dbf5ae87"
      },
      "source": [
        "!pip install tensorflow==1.14"
      ],
      "execution_count": 59,
      "outputs": [
        {
          "output_type": "stream",
          "text": [
            "Collecting tensorflow==1.14\n",
            "\u001b[?25l  Downloading https://files.pythonhosted.org/packages/de/f0/96fb2e0412ae9692dbf400e5b04432885f677ad6241c088ccc5fe7724d69/tensorflow-1.14.0-cp36-cp36m-manylinux1_x86_64.whl (109.2MB)\n",
            "\u001b[K     |████████████████████████████████| 109.2MB 108kB/s \n",
            "\u001b[?25hRequirement already satisfied: wheel>=0.26 in /usr/local/lib/python3.6/dist-packages (from tensorflow==1.14) (0.36.2)\n",
            "Requirement already satisfied: google-pasta>=0.1.6 in /usr/local/lib/python3.6/dist-packages (from tensorflow==1.14) (0.2.0)\n",
            "Requirement already satisfied: keras-preprocessing>=1.0.5 in /usr/local/lib/python3.6/dist-packages (from tensorflow==1.14) (1.1.2)\n",
            "Requirement already satisfied: termcolor>=1.1.0 in /usr/local/lib/python3.6/dist-packages (from tensorflow==1.14) (1.1.0)\n",
            "Collecting keras-applications>=1.0.6\n",
            "\u001b[?25l  Downloading https://files.pythonhosted.org/packages/71/e3/19762fdfc62877ae9102edf6342d71b28fbfd9dea3d2f96a882ce099b03f/Keras_Applications-1.0.8-py3-none-any.whl (50kB)\n",
            "\u001b[K     |████████████████████████████████| 51kB 5.4MB/s \n",
            "\u001b[?25hCollecting tensorflow-estimator<1.15.0rc0,>=1.14.0rc0\n",
            "\u001b[?25l  Downloading https://files.pythonhosted.org/packages/3c/d5/21860a5b11caf0678fbc8319341b0ae21a07156911132e0e71bffed0510d/tensorflow_estimator-1.14.0-py2.py3-none-any.whl (488kB)\n",
            "\u001b[K     |████████████████████████████████| 491kB 40.6MB/s \n",
            "\u001b[?25hCollecting tensorboard<1.15.0,>=1.14.0\n",
            "\u001b[?25l  Downloading https://files.pythonhosted.org/packages/91/2d/2ed263449a078cd9c8a9ba50ebd50123adf1f8cfbea1492f9084169b89d9/tensorboard-1.14.0-py3-none-any.whl (3.1MB)\n",
            "\u001b[K     |████████████████████████████████| 3.2MB 40.5MB/s \n",
            "\u001b[?25hRequirement already satisfied: numpy<2.0,>=1.14.5 in /usr/local/lib/python3.6/dist-packages (from tensorflow==1.14) (1.19.5)\n",
            "Requirement already satisfied: gast>=0.2.0 in /usr/local/lib/python3.6/dist-packages (from tensorflow==1.14) (0.3.3)\n",
            "Requirement already satisfied: wrapt>=1.11.1 in /usr/local/lib/python3.6/dist-packages (from tensorflow==1.14) (1.12.1)\n",
            "Requirement already satisfied: grpcio>=1.8.6 in /usr/local/lib/python3.6/dist-packages (from tensorflow==1.14) (1.32.0)\n",
            "Requirement already satisfied: absl-py>=0.7.0 in /usr/local/lib/python3.6/dist-packages (from tensorflow==1.14) (0.10.0)\n",
            "Requirement already satisfied: six>=1.10.0 in /usr/local/lib/python3.6/dist-packages (from tensorflow==1.14) (1.15.0)\n",
            "Requirement already satisfied: astor>=0.6.0 in /usr/local/lib/python3.6/dist-packages (from tensorflow==1.14) (0.8.1)\n",
            "Requirement already satisfied: protobuf>=3.6.1 in /usr/local/lib/python3.6/dist-packages (from tensorflow==1.14) (3.12.4)\n",
            "Requirement already satisfied: h5py in /usr/local/lib/python3.6/dist-packages (from keras-applications>=1.0.6->tensorflow==1.14) (2.10.0)\n",
            "Requirement already satisfied: werkzeug>=0.11.15 in /usr/local/lib/python3.6/dist-packages (from tensorboard<1.15.0,>=1.14.0->tensorflow==1.14) (1.0.1)\n",
            "Requirement already satisfied: setuptools>=41.0.0 in /usr/local/lib/python3.6/dist-packages (from tensorboard<1.15.0,>=1.14.0->tensorflow==1.14) (53.0.0)\n",
            "Requirement already satisfied: markdown>=2.6.8 in /usr/local/lib/python3.6/dist-packages (from tensorboard<1.15.0,>=1.14.0->tensorflow==1.14) (3.3.3)\n",
            "Requirement already satisfied: importlib-metadata; python_version < \"3.8\" in /usr/local/lib/python3.6/dist-packages (from markdown>=2.6.8->tensorboard<1.15.0,>=1.14.0->tensorflow==1.14) (3.4.0)\n",
            "Requirement already satisfied: zipp>=0.5 in /usr/local/lib/python3.6/dist-packages (from importlib-metadata; python_version < \"3.8\"->markdown>=2.6.8->tensorboard<1.15.0,>=1.14.0->tensorflow==1.14) (3.4.0)\n",
            "Requirement already satisfied: typing-extensions>=3.6.4; python_version < \"3.8\" in /usr/local/lib/python3.6/dist-packages (from importlib-metadata; python_version < \"3.8\"->markdown>=2.6.8->tensorboard<1.15.0,>=1.14.0->tensorflow==1.14) (3.7.4.3)\n",
            "Installing collected packages: keras-applications, tensorflow-estimator, tensorboard, tensorflow\n",
            "  Found existing installation: tensorflow-estimator 2.4.0\n",
            "    Uninstalling tensorflow-estimator-2.4.0:\n",
            "      Successfully uninstalled tensorflow-estimator-2.4.0\n",
            "  Found existing installation: tensorboard 2.4.1\n",
            "    Uninstalling tensorboard-2.4.1:\n",
            "      Successfully uninstalled tensorboard-2.4.1\n",
            "  Found existing installation: tensorflow 2.4.1\n",
            "    Uninstalling tensorflow-2.4.1:\n",
            "      Successfully uninstalled tensorflow-2.4.1\n",
            "Successfully installed keras-applications-1.0.8 tensorboard-1.14.0 tensorflow-1.14.0 tensorflow-estimator-1.14.0\n"
          ],
          "name": "stdout"
        },
        {
          "output_type": "display_data",
          "data": {
            "application/vnd.colab-display-data+json": {
              "pip_warning": {
                "packages": [
                  "tensorboard",
                  "tensorflow",
                  "tensorflow_estimator"
                ]
              }
            }
          },
          "metadata": {
            "tags": []
          }
        }
      ]
    },
    {
      "cell_type": "code",
      "metadata": {
        "colab": {
          "base_uri": "https://localhost:8080/"
        },
        "id": "mC3MSUVBmHf9",
        "outputId": "9ba1f9c2-78bc-4259-f018-14e12f2cb0f0"
      },
      "source": [
        "import tensorflow as tf\r\n",
        "print(tf.__version__)"
      ],
      "execution_count": 5,
      "outputs": [
        {
          "output_type": "stream",
          "text": [
            "1.14.0\n"
          ],
          "name": "stdout"
        }
      ]
    },
    {
      "cell_type": "code",
      "metadata": {
        "colab": {
          "base_uri": "https://localhost:8080/"
        },
        "id": "MqVWTFGqe0CM",
        "outputId": "8f1cf994-3cd2-4df1-ddf1-59066f52a8c5"
      },
      "source": [
        "df = pd.read_csv(\"/content/Data/prices-split-adjusted.csv\", index_col = 0)\r\n",
        "df.info()\r\n",
        "df.head()\r\n",
        "\r\n",
        "# number of different stocks\r\n",
        "print('\\nnumber of different stocks: ', len(list(set(df.symbol))))\r\n",
        "print(list(set(df.symbol))[:10])"
      ],
      "execution_count": 6,
      "outputs": [
        {
          "output_type": "stream",
          "text": [
            "<class 'pandas.core.frame.DataFrame'>\n",
            "Index: 851264 entries, 2016-01-05 to 2016-12-30\n",
            "Data columns (total 6 columns):\n",
            " #   Column  Non-Null Count   Dtype  \n",
            "---  ------  --------------   -----  \n",
            " 0   symbol  851264 non-null  object \n",
            " 1   open    851264 non-null  float64\n",
            " 2   close   851264 non-null  float64\n",
            " 3   low     851264 non-null  float64\n",
            " 4   high    851264 non-null  float64\n",
            " 5   volume  851264 non-null  float64\n",
            "dtypes: float64(5), object(1)\n",
            "memory usage: 45.5+ MB\n",
            "\n",
            "number of different stocks:  501\n",
            "['TMK', 'TSS', 'ROST', 'WY', 'TGT', 'AKAM', 'PDCO', 'GT', 'PM', 'MMM']\n"
          ],
          "name": "stdout"
        }
      ]
    },
    {
      "cell_type": "code",
      "metadata": {
        "colab": {
          "base_uri": "https://localhost:8080/",
          "height": 235
        },
        "id": "XvI0orkce0GN",
        "outputId": "1e31ceb4-119c-4912-bb77-859c86e3c45d"
      },
      "source": [
        "df.tail()"
      ],
      "execution_count": 7,
      "outputs": [
        {
          "output_type": "execute_result",
          "data": {
            "text/html": [
              "<div>\n",
              "<style scoped>\n",
              "    .dataframe tbody tr th:only-of-type {\n",
              "        vertical-align: middle;\n",
              "    }\n",
              "\n",
              "    .dataframe tbody tr th {\n",
              "        vertical-align: top;\n",
              "    }\n",
              "\n",
              "    .dataframe thead th {\n",
              "        text-align: right;\n",
              "    }\n",
              "</style>\n",
              "<table border=\"1\" class=\"dataframe\">\n",
              "  <thead>\n",
              "    <tr style=\"text-align: right;\">\n",
              "      <th></th>\n",
              "      <th>symbol</th>\n",
              "      <th>open</th>\n",
              "      <th>close</th>\n",
              "      <th>low</th>\n",
              "      <th>high</th>\n",
              "      <th>volume</th>\n",
              "    </tr>\n",
              "    <tr>\n",
              "      <th>date</th>\n",
              "      <th></th>\n",
              "      <th></th>\n",
              "      <th></th>\n",
              "      <th></th>\n",
              "      <th></th>\n",
              "      <th></th>\n",
              "    </tr>\n",
              "  </thead>\n",
              "  <tbody>\n",
              "    <tr>\n",
              "      <th>2016-12-30</th>\n",
              "      <td>ZBH</td>\n",
              "      <td>103.309998</td>\n",
              "      <td>103.199997</td>\n",
              "      <td>102.849998</td>\n",
              "      <td>103.930000</td>\n",
              "      <td>973800.0</td>\n",
              "    </tr>\n",
              "    <tr>\n",
              "      <th>2016-12-30</th>\n",
              "      <td>ZION</td>\n",
              "      <td>43.070000</td>\n",
              "      <td>43.040001</td>\n",
              "      <td>42.689999</td>\n",
              "      <td>43.310001</td>\n",
              "      <td>1938100.0</td>\n",
              "    </tr>\n",
              "    <tr>\n",
              "      <th>2016-12-30</th>\n",
              "      <td>ZTS</td>\n",
              "      <td>53.639999</td>\n",
              "      <td>53.529999</td>\n",
              "      <td>53.270000</td>\n",
              "      <td>53.740002</td>\n",
              "      <td>1701200.0</td>\n",
              "    </tr>\n",
              "    <tr>\n",
              "      <th>2016-12-30</th>\n",
              "      <td>AIV</td>\n",
              "      <td>44.730000</td>\n",
              "      <td>45.450001</td>\n",
              "      <td>44.410000</td>\n",
              "      <td>45.590000</td>\n",
              "      <td>1380900.0</td>\n",
              "    </tr>\n",
              "    <tr>\n",
              "      <th>2016-12-30</th>\n",
              "      <td>FTV</td>\n",
              "      <td>54.200001</td>\n",
              "      <td>53.630001</td>\n",
              "      <td>53.389999</td>\n",
              "      <td>54.480000</td>\n",
              "      <td>705100.0</td>\n",
              "    </tr>\n",
              "  </tbody>\n",
              "</table>\n",
              "</div>"
            ],
            "text/plain": [
              "           symbol        open       close         low        high     volume\n",
              "date                                                                        \n",
              "2016-12-30    ZBH  103.309998  103.199997  102.849998  103.930000   973800.0\n",
              "2016-12-30   ZION   43.070000   43.040001   42.689999   43.310001  1938100.0\n",
              "2016-12-30    ZTS   53.639999   53.529999   53.270000   53.740002  1701200.0\n",
              "2016-12-30    AIV   44.730000   45.450001   44.410000   45.590000  1380900.0\n",
              "2016-12-30    FTV   54.200001   53.630001   53.389999   54.480000   705100.0"
            ]
          },
          "metadata": {
            "tags": []
          },
          "execution_count": 7
        }
      ]
    },
    {
      "cell_type": "code",
      "metadata": {
        "colab": {
          "base_uri": "https://localhost:8080/",
          "height": 297
        },
        "id": "LCn0VX8Ee0KI",
        "outputId": "bfd0dfdf-6ab9-4ac4-a6a8-2db7a159be10"
      },
      "source": [
        "df.describe()"
      ],
      "execution_count": 8,
      "outputs": [
        {
          "output_type": "execute_result",
          "data": {
            "text/html": [
              "<div>\n",
              "<style scoped>\n",
              "    .dataframe tbody tr th:only-of-type {\n",
              "        vertical-align: middle;\n",
              "    }\n",
              "\n",
              "    .dataframe tbody tr th {\n",
              "        vertical-align: top;\n",
              "    }\n",
              "\n",
              "    .dataframe thead th {\n",
              "        text-align: right;\n",
              "    }\n",
              "</style>\n",
              "<table border=\"1\" class=\"dataframe\">\n",
              "  <thead>\n",
              "    <tr style=\"text-align: right;\">\n",
              "      <th></th>\n",
              "      <th>open</th>\n",
              "      <th>close</th>\n",
              "      <th>low</th>\n",
              "      <th>high</th>\n",
              "      <th>volume</th>\n",
              "    </tr>\n",
              "  </thead>\n",
              "  <tbody>\n",
              "    <tr>\n",
              "      <th>count</th>\n",
              "      <td>851264.000000</td>\n",
              "      <td>851264.000000</td>\n",
              "      <td>851264.000000</td>\n",
              "      <td>851264.000000</td>\n",
              "      <td>8.512640e+05</td>\n",
              "    </tr>\n",
              "    <tr>\n",
              "      <th>mean</th>\n",
              "      <td>64.993618</td>\n",
              "      <td>65.011913</td>\n",
              "      <td>64.336541</td>\n",
              "      <td>65.639748</td>\n",
              "      <td>5.415113e+06</td>\n",
              "    </tr>\n",
              "    <tr>\n",
              "      <th>std</th>\n",
              "      <td>75.203893</td>\n",
              "      <td>75.201216</td>\n",
              "      <td>74.459518</td>\n",
              "      <td>75.906861</td>\n",
              "      <td>1.249468e+07</td>\n",
              "    </tr>\n",
              "    <tr>\n",
              "      <th>min</th>\n",
              "      <td>1.660000</td>\n",
              "      <td>1.590000</td>\n",
              "      <td>1.500000</td>\n",
              "      <td>1.810000</td>\n",
              "      <td>0.000000e+00</td>\n",
              "    </tr>\n",
              "    <tr>\n",
              "      <th>25%</th>\n",
              "      <td>31.270000</td>\n",
              "      <td>31.292776</td>\n",
              "      <td>30.940001</td>\n",
              "      <td>31.620001</td>\n",
              "      <td>1.221500e+06</td>\n",
              "    </tr>\n",
              "    <tr>\n",
              "      <th>50%</th>\n",
              "      <td>48.459999</td>\n",
              "      <td>48.480000</td>\n",
              "      <td>47.970001</td>\n",
              "      <td>48.959999</td>\n",
              "      <td>2.476250e+06</td>\n",
              "    </tr>\n",
              "    <tr>\n",
              "      <th>75%</th>\n",
              "      <td>75.120003</td>\n",
              "      <td>75.139999</td>\n",
              "      <td>74.400002</td>\n",
              "      <td>75.849998</td>\n",
              "      <td>5.222500e+06</td>\n",
              "    </tr>\n",
              "    <tr>\n",
              "      <th>max</th>\n",
              "      <td>1584.439941</td>\n",
              "      <td>1578.130005</td>\n",
              "      <td>1549.939941</td>\n",
              "      <td>1600.930054</td>\n",
              "      <td>8.596434e+08</td>\n",
              "    </tr>\n",
              "  </tbody>\n",
              "</table>\n",
              "</div>"
            ],
            "text/plain": [
              "                open          close            low           high        volume\n",
              "count  851264.000000  851264.000000  851264.000000  851264.000000  8.512640e+05\n",
              "mean       64.993618      65.011913      64.336541      65.639748  5.415113e+06\n",
              "std        75.203893      75.201216      74.459518      75.906861  1.249468e+07\n",
              "min         1.660000       1.590000       1.500000       1.810000  0.000000e+00\n",
              "25%        31.270000      31.292776      30.940001      31.620001  1.221500e+06\n",
              "50%        48.459999      48.480000      47.970001      48.959999  2.476250e+06\n",
              "75%        75.120003      75.139999      74.400002      75.849998  5.222500e+06\n",
              "max      1584.439941    1578.130005    1549.939941    1600.930054  8.596434e+08"
            ]
          },
          "metadata": {
            "tags": []
          },
          "execution_count": 8
        }
      ]
    },
    {
      "cell_type": "code",
      "metadata": {
        "colab": {
          "base_uri": "https://localhost:8080/"
        },
        "id": "9kUaHMLee0Nd",
        "outputId": "99ba8d43-fe29-46f1-ce6a-9811980d1a43"
      },
      "source": [
        "df.info()"
      ],
      "execution_count": 9,
      "outputs": [
        {
          "output_type": "stream",
          "text": [
            "<class 'pandas.core.frame.DataFrame'>\n",
            "Index: 851264 entries, 2016-01-05 to 2016-12-30\n",
            "Data columns (total 6 columns):\n",
            " #   Column  Non-Null Count   Dtype  \n",
            "---  ------  --------------   -----  \n",
            " 0   symbol  851264 non-null  object \n",
            " 1   open    851264 non-null  float64\n",
            " 2   close   851264 non-null  float64\n",
            " 3   low     851264 non-null  float64\n",
            " 4   high    851264 non-null  float64\n",
            " 5   volume  851264 non-null  float64\n",
            "dtypes: float64(5), object(1)\n",
            "memory usage: 45.5+ MB\n"
          ],
          "name": "stdout"
        }
      ]
    },
    {
      "cell_type": "code",
      "metadata": {
        "colab": {
          "base_uri": "https://localhost:8080/",
          "height": 350
        },
        "id": "lc-69nTGe0QJ",
        "outputId": "b11e8e58-a3ec-4298-dfc3-a0d4e4e2b03b"
      },
      "source": [
        "plt.figure(figsize=(15, 5));\r\n",
        "plt.subplot(1,2,1);\r\n",
        "plt.plot(df[df.symbol == 'EQIX'].open.values, color='red', label='open')\r\n",
        "plt.plot(df[df.symbol == 'EQIX'].close.values, color='green', label='close')\r\n",
        "plt.plot(df[df.symbol == 'EQIX'].low.values, color='blue', label='low')\r\n",
        "plt.plot(df[df.symbol == 'EQIX'].high.values, color='black', label='high')\r\n",
        "plt.title('stock price')\r\n",
        "plt.xlabel('time [days]')\r\n",
        "plt.ylabel('price')\r\n",
        "plt.legend(loc='best')\r\n",
        "#plt.show()\r\n",
        "\r\n",
        "plt.subplot(1,2,2);\r\n",
        "plt.plot(df[df.symbol == 'EQIX'].volume.values, color='black', label='volume')\r\n",
        "plt.title('stock volume')\r\n",
        "plt.xlabel('time [days]')\r\n",
        "plt.ylabel('volume')\r\n",
        "plt.legend(loc='best');"
      ],
      "execution_count": 10,
      "outputs": [
        {
          "output_type": "display_data",
          "data": {
            "image/png": "[encoded data removed]",
            "text/plain": [
              "<Figure size 1080x360 with 2 Axes>"
            ]
          },
          "metadata": {
            "tags": [],
            "needs_background": "light"
          }
        }
      ]
    },
    {
      "cell_type": "code",
      "metadata": {
        "colab": {
          "base_uri": "https://localhost:8080/"
        },
        "id": "7SSP3824e0S6",
        "outputId": "1374b719-d8af-41df-acb6-b08b7ad40477"
      },
      "source": [
        "# function for min-max normalization of stock\r\n",
        "def normalize_data(df):\r\n",
        "    min_max_scaler = sklearn.preprocessing.MinMaxScaler()\r\n",
        "    df['open'] = min_max_scaler.fit_transform(df.open.values.reshape(-1,1))\r\n",
        "    df['high'] = min_max_scaler.fit_transform(df.high.values.reshape(-1,1))\r\n",
        "    df['low'] = min_max_scaler.fit_transform(df.low.values.reshape(-1,1))\r\n",
        "    df['close'] = min_max_scaler.fit_transform(df['close'].values.reshape(-1,1))\r\n",
        "    return df\r\n",
        "\r\n",
        "# function to create train, validation, test data given stock data and sequence length\r\n",
        "def load_data(stock, seq_len):\r\n",
        "    data_raw = stock.values # convert to numpy array\r\n",
        "    data = []\r\n",
        "    \r\n",
        "    # create all possible sequences of length seq_len\r\n",
        "    for index in range(len(data_raw) - seq_len): \r\n",
        "        data.append(data_raw[index: index + seq_len])\r\n",
        "    \r\n",
        "    data = np.array(data);\r\n",
        "    valid_set_size = int(np.round(valid_set_size_percentage/100*data.shape[0]));  \r\n",
        "    test_set_size = int(np.round(test_set_size_percentage/100*data.shape[0]));\r\n",
        "    train_set_size = data.shape[0] - (valid_set_size + test_set_size);\r\n",
        "    \r\n",
        "    x_train = data[:train_set_size,:-1,:]\r\n",
        "    y_train = data[:train_set_size,-1,:]\r\n",
        "    \r\n",
        "    x_valid = data[train_set_size:train_set_size+valid_set_size,:-1,:]\r\n",
        "    y_valid = data[train_set_size:train_set_size+valid_set_size,-1,:]\r\n",
        "    \r\n",
        "    x_test = data[train_set_size+valid_set_size:,:-1,:]\r\n",
        "    y_test = data[train_set_size+valid_set_size:,-1,:]\r\n",
        "    \r\n",
        "    return [x_train, y_train, x_valid, y_valid, x_test, y_test]\r\n",
        "\r\n",
        "# choose one stock\r\n",
        "df_stock = df[df.symbol == 'EQIX'].copy()\r\n",
        "df_stock.drop(['symbol'],1,inplace=True)\r\n",
        "df_stock.drop(['volume'],1,inplace=True)\r\n",
        "\r\n",
        "cols = list(df_stock.columns.values)\r\n",
        "print('df_stock.columns.values = ', cols)\r\n",
        "\r\n",
        "# normalize stock\r\n",
        "df_stock_norm = df_stock.copy()\r\n",
        "df_stock_norm = normalize_data(df_stock_norm)\r\n",
        "\r\n",
        "# create train, test data\r\n",
        "seq_len = 20 # choose sequence length\r\n",
        "x_train, y_train, x_valid, y_valid, x_test, y_test = load_data(df_stock_norm, seq_len)\r\n",
        "print('x_train.shape = ',x_train.shape)\r\n",
        "print('y_train.shape = ', y_train.shape)\r\n",
        "print('x_valid.shape = ',x_valid.shape)\r\n",
        "print('y_valid.shape = ', y_valid.shape)\r\n",
        "print('x_test.shape = ', x_test.shape)\r\n",
        "print('y_test.shape = ',y_test.shape)\r\n"
      ],
      "execution_count": 11,
      "outputs": [
        {
          "output_type": "stream",
          "text": [
            "df_stock.columns.values =  ['open', 'close', 'low', 'high']\n",
            "x_train.shape =  (1394, 19, 4)\n",
            "y_train.shape =  (1394, 4)\n",
            "x_valid.shape =  (174, 19, 4)\n",
            "y_valid.shape =  (174, 4)\n",
            "x_test.shape =  (174, 19, 4)\n",
            "y_test.shape =  (174, 4)\n"
          ],
          "name": "stdout"
        }
      ]
    },
    {
      "cell_type": "code",
      "metadata": {
        "colab": {
          "base_uri": "https://localhost:8080/",
          "height": 295
        },
        "id": "80Q53lHVe0V-",
        "outputId": "5294c136-e8d2-4d1f-e55d-4ef23c635a9f"
      },
      "source": [
        "plt.plot(df_stock_norm.open.values, color='red', label='open')\r\n",
        "plt.plot(df_stock_norm.close.values, color='green', label='low')\r\n",
        "plt.plot(df_stock_norm.low.values, color='blue', label='low')\r\n",
        "plt.plot(df_stock_norm.high.values, color='black', label='high')\r\n",
        "#plt.plot(df_stock_norm.volume.values, color='gray', label='volume')\r\n",
        "plt.title('stock')\r\n",
        "plt.xlabel('time [days]')\r\n",
        "plt.ylabel('normalized price/volume')\r\n",
        "plt.legend(loc='best')\r\n",
        "plt.show()"
      ],
      "execution_count": 12,
      "outputs": [
        {
          "output_type": "display_data",
          "data": {
            "image/png": "[encoded data removed]",
            "text/plain": [
              "<Figure size 432x288 with 1 Axes>"
            ]
          },
          "metadata": {
            "tags": [],
            "needs_background": "light"
          }
        }
      ]
    },
    {
      "cell_type": "code",
      "metadata": {
        "id": "hF6mO7YUhfSk"
      },
      "source": [
        ""
      ],
      "execution_count": 12,
      "outputs": []
    },
    {
      "cell_type": "code",
      "metadata": {
        "id": "TsFzCi7xiKiy"
      },
      "source": [
        ""
      ],
      "execution_count": 12,
      "outputs": []
    },
    {
      "cell_type": "code",
      "metadata": {
        "colab": {
          "base_uri": "https://localhost:8080/"
        },
        "id": "eIKbbgCVe0at",
        "outputId": "b2bf087f-73d9-4d9b-f53b-f00c4ff36dc3"
      },
      "source": [
        "\r\n",
        "index_in_epoch = 0;\r\n",
        "perm_array  = np.arange(x_train.shape[0])\r\n",
        "np.random.shuffle(perm_array)\r\n",
        "\r\n",
        "# function to get the next batch\r\n",
        "def get_next_batch(batch_size):\r\n",
        "    global index_in_epoch, x_train, perm_array   \r\n",
        "    start = index_in_epoch\r\n",
        "    index_in_epoch += batch_size\r\n",
        "    \r\n",
        "    if index_in_epoch > x_train.shape[0]:\r\n",
        "        np.random.shuffle(perm_array) # shuffle permutation array\r\n",
        "        start = 0 # start next epoch\r\n",
        "        index_in_epoch = batch_size\r\n",
        "        \r\n",
        "    end = index_in_epoch\r\n",
        "    return x_train[perm_array[start:end]], y_train[perm_array[start:end]]\r\n",
        "\r\n",
        "# parameters\r\n",
        "n_steps = seq_len-1 \r\n",
        "n_inputs = 4 \r\n",
        "n_neurons = 200 \r\n",
        "n_outputs = 4\r\n",
        "n_layers = 2\r\n",
        "learning_rate = 0.001\r\n",
        "batch_size = 50\r\n",
        "n_epochs = 100 \r\n",
        "train_set_size = x_train.shape[0]\r\n",
        "test_set_size = x_test.shape[0]\r\n",
        "\r\n",
        "#tf.reset_default_graph()\r\n",
        "tf.compat.v1.reset_default_graph()\r\n",
        "X = tf.compat.v1.placeholder(tf.float32, [None, n_steps, n_inputs])\r\n",
        "y = tf.compat.v1.placeholder(tf.float32, [None, n_outputs])\r\n",
        "\r\n",
        "# use Basic RNN Cell\r\n",
        "layers = [tf.contrib.rnn.BasicRNNCell(num_units=n_neurons, activation=tf.nn.elu)\r\n",
        "          for layer in range(n_layers)]\r\n",
        "\r\n",
        "# use Basic LSTM Cell \r\n",
        "#layers = [tf.contrib.rnn.BasicLSTMCell(num_units=n_neurons, activation=tf.nn.elu)\r\n",
        "#          for layer in range(n_layers)]\r\n",
        "\r\n",
        "# use LSTM Cell with peephole connections\r\n",
        "#layers = [tf.contrib.rnn.LSTMCell(num_units=n_neurons, \r\n",
        "#                                  activation=tf.nn.leaky_relu, use_peepholes = True)\r\n",
        "#          for layer in range(n_layers)]\r\n",
        "\r\n",
        "# use GRU cell\r\n",
        "#layers = [tf.contrib.rnn.GRUCell(num_units=n_neurons, activation=tf.nn.leaky_relu)\r\n",
        "#          for layer in range(n_layers)]\r\n",
        "                                                                     \r\n",
        "multi_layer_cell = tf.contrib.rnn.MultiRNNCell(layers)\r\n",
        "rnn_outputs, states = tf.nn.dynamic_rnn(multi_layer_cell, X, dtype=tf.float32)\r\n",
        "\r\n",
        "stacked_rnn_outputs = tf.reshape(rnn_outputs, [-1, n_neurons]) \r\n",
        "stacked_outputs = tf.layers.dense(stacked_rnn_outputs, n_outputs)\r\n",
        "outputs = tf.reshape(stacked_outputs, [-1, n_steps, n_outputs])\r\n",
        "outputs = outputs[:,n_steps-1,:] # keep only last output of sequence\r\n",
        "                                              \r\n",
        "loss = tf.reduce_mean(tf.square(outputs - y)) # loss function = mean squared error \r\n",
        "optimizer = tf.train.AdamOptimizer(learning_rate=learning_rate) \r\n",
        "training_op = optimizer.minimize(loss)\r\n",
        "                                              \r\n",
        "# run graph\r\n",
        "with tf.Session() as sess: \r\n",
        "    sess.run(tf.global_variables_initializer())\r\n",
        "    for iteration in range(int(n_epochs*train_set_size/batch_size)):\r\n",
        "        x_batch, y_batch = get_next_batch(batch_size) # fetch the next training batch \r\n",
        "        sess.run(training_op, feed_dict={X: x_batch, y: y_batch}) \r\n",
        "        if iteration % int(5*train_set_size/batch_size) == 0:\r\n",
        "            mse_train = loss.eval(feed_dict={X: x_train, y: y_train}) \r\n",
        "            mse_valid = loss.eval(feed_dict={X: x_valid, y: y_valid}) \r\n",
        "            print('%.2f epochs: MSE train/valid = %.6f/%.6f'%(\r\n",
        "                iteration*batch_size/train_set_size, mse_train, mse_valid))\r\n",
        "\r\n",
        "    y_train_pred = sess.run(outputs, feed_dict={X: x_train})\r\n",
        "    y_valid_pred = sess.run(outputs, feed_dict={X: x_valid})\r\n",
        "    y_test_pred = sess.run(outputs, feed_dict={X: x_test})\r\n",
        "    "
      ],
      "execution_count": 13,
      "outputs": [
        {
          "output_type": "stream",
          "text": [
            "WARNING:tensorflow:\n",
            "The TensorFlow contrib module will not be included in TensorFlow 2.0.\n",
            "For more information, please see:\n",
            "  * https://github.com/tensorflow/community/blob/master/rfcs/20180907-contrib-sunset.md\n",
            "  * https://github.com/tensorflow/addons\n",
            "  * https://github.com/tensorflow/io (for I/O related ops)\n",
            "If you depend on functionality not listed there, please file an issue.\n",
            "\n",
            "WARNING:tensorflow:From <ipython-input-13-c2b914e050a7>:39: BasicRNNCell.__init__ (from tensorflow.python.ops.rnn_cell_impl) is deprecated and will be removed in a future version.\n",
            "Instructions for updating:\n",
            "This class is equivalent as tf.keras.layers.SimpleRNNCell, and will be replaced by that in Tensorflow 2.0.\n",
            "WARNING:tensorflow:From <ipython-input-13-c2b914e050a7>:54: MultiRNNCell.__init__ (from tensorflow.python.ops.rnn_cell_impl) is deprecated and will be removed in a future version.\n",
            "Instructions for updating:\n",
            "This class is equivalent as tf.keras.layers.StackedRNNCells, and will be replaced by that in Tensorflow 2.0.\n",
            "WARNING:tensorflow:From <ipython-input-13-c2b914e050a7>:55: dynamic_rnn (from tensorflow.python.ops.rnn) is deprecated and will be removed in a future version.\n",
            "Instructions for updating:\n",
            "Please use `keras.layers.RNN(cell)`, which is equivalent to this API\n",
            "WARNING:tensorflow:Entity <bound method MultiRNNCell.call of <tensorflow.python.ops.rnn_cell_impl.MultiRNNCell object at 0x7fc75c2772e8>> could not be transformed and will be executed as-is. Please report this to the AutgoGraph team. When filing the bug, set the verbosity to 10 (on Linux, `export AUTOGRAPH_VERBOSITY=10`) and attach the full output. Cause: converting <bound method MultiRNNCell.call of <tensorflow.python.ops.rnn_cell_impl.MultiRNNCell object at 0x7fc75c2772e8>>: AttributeError: module 'gast' has no attribute 'Num'\n",
            "WARNING: Entity <bound method MultiRNNCell.call of <tensorflow.python.ops.rnn_cell_impl.MultiRNNCell object at 0x7fc75c2772e8>> could not be transformed and will be executed as-is. Please report this to the AutgoGraph team. When filing the bug, set the verbosity to 10 (on Linux, `export AUTOGRAPH_VERBOSITY=10`) and attach the full output. Cause: converting <bound method MultiRNNCell.call of <tensorflow.python.ops.rnn_cell_impl.MultiRNNCell object at 0x7fc75c2772e8>>: AttributeError: module 'gast' has no attribute 'Num'\n",
            "WARNING:tensorflow:From /usr/local/lib/python3.6/dist-packages/tensorflow/python/ops/init_ops.py:1251: calling VarianceScaling.__init__ (from tensorflow.python.ops.init_ops) with dtype is deprecated and will be removed in a future version.\n",
            "Instructions for updating:\n",
            "Call initializer instance with the dtype argument instead of passing it to the constructor\n",
            "WARNING:tensorflow:From /usr/local/lib/python3.6/dist-packages/tensorflow/python/ops/rnn_cell_impl.py:459: calling Zeros.__init__ (from tensorflow.python.ops.init_ops) with dtype is deprecated and will be removed in a future version.\n",
            "Instructions for updating:\n",
            "Call initializer instance with the dtype argument instead of passing it to the constructor\n",
            "WARNING:tensorflow:Entity <bound method BasicRNNCell.call of <tensorflow.python.ops.rnn_cell_impl.BasicRNNCell object at 0x7fc75c343f60>> could not be transformed and will be executed as-is. Please report this to the AutgoGraph team. When filing the bug, set the verbosity to 10 (on Linux, `export AUTOGRAPH_VERBOSITY=10`) and attach the full output. Cause: converting <bound method BasicRNNCell.call of <tensorflow.python.ops.rnn_cell_impl.BasicRNNCell object at 0x7fc75c343f60>>: AssertionError: Bad argument number for Name: 3, expecting 4\n",
            "WARNING: Entity <bound method BasicRNNCell.call of <tensorflow.python.ops.rnn_cell_impl.BasicRNNCell object at 0x7fc75c343f60>> could not be transformed and will be executed as-is. Please report this to the AutgoGraph team. When filing the bug, set the verbosity to 10 (on Linux, `export AUTOGRAPH_VERBOSITY=10`) and attach the full output. Cause: converting <bound method BasicRNNCell.call of <tensorflow.python.ops.rnn_cell_impl.BasicRNNCell object at 0x7fc75c343f60>>: AssertionError: Bad argument number for Name: 3, expecting 4\n",
            "WARNING:tensorflow:Entity <bound method BasicRNNCell.call of <tensorflow.python.ops.rnn_cell_impl.BasicRNNCell object at 0x7fc75c2770b8>> could not be transformed and will be executed as-is. Please report this to the AutgoGraph team. When filing the bug, set the verbosity to 10 (on Linux, `export AUTOGRAPH_VERBOSITY=10`) and attach the full output. Cause: converting <bound method BasicRNNCell.call of <tensorflow.python.ops.rnn_cell_impl.BasicRNNCell object at 0x7fc75c2770b8>>: AssertionError: Bad argument number for Name: 3, expecting 4\n",
            "WARNING: Entity <bound method BasicRNNCell.call of <tensorflow.python.ops.rnn_cell_impl.BasicRNNCell object at 0x7fc75c2770b8>> could not be transformed and will be executed as-is. Please report this to the AutgoGraph team. When filing the bug, set the verbosity to 10 (on Linux, `export AUTOGRAPH_VERBOSITY=10`) and attach the full output. Cause: converting <bound method BasicRNNCell.call of <tensorflow.python.ops.rnn_cell_impl.BasicRNNCell object at 0x7fc75c2770b8>>: AssertionError: Bad argument number for Name: 3, expecting 4\n",
            "WARNING:tensorflow:From <ipython-input-13-c2b914e050a7>:58: dense (from tensorflow.python.layers.core) is deprecated and will be removed in a future version.\n",
            "Instructions for updating:\n",
            "Use keras.layers.dense instead.\n",
            "WARNING:tensorflow:Entity <bound method Dense.call of <tensorflow.python.layers.core.Dense object at 0x7fc75c2775f8>> could not be transformed and will be executed as-is. Please report this to the AutgoGraph team. When filing the bug, set the verbosity to 10 (on Linux, `export AUTOGRAPH_VERBOSITY=10`) and attach the full output. Cause: converting <bound method Dense.call of <tensorflow.python.layers.core.Dense object at 0x7fc75c2775f8>>: AssertionError: Bad argument number for Name: 3, expecting 4\n",
            "WARNING: Entity <bound method Dense.call of <tensorflow.python.layers.core.Dense object at 0x7fc75c2775f8>> could not be transformed and will be executed as-is. Please report this to the AutgoGraph team. When filing the bug, set the verbosity to 10 (on Linux, `export AUTOGRAPH_VERBOSITY=10`) and attach the full output. Cause: converting <bound method Dense.call of <tensorflow.python.layers.core.Dense object at 0x7fc75c2775f8>>: AssertionError: Bad argument number for Name: 3, expecting 4\n",
            "0.00 epochs: MSE train/valid = 0.047203/0.194058\n",
            "4.99 epochs: MSE train/valid = 0.000160/0.000790\n",
            "9.97 epochs: MSE train/valid = 0.000170/0.000476\n",
            "14.96 epochs: MSE train/valid = 0.000120/0.000415\n",
            "19.94 epochs: MSE train/valid = 0.000111/0.000514\n",
            "24.93 epochs: MSE train/valid = 0.000096/0.000325\n",
            "29.91 epochs: MSE train/valid = 0.000096/0.000430\n",
            "34.90 epochs: MSE train/valid = 0.000085/0.000284\n",
            "39.89 epochs: MSE train/valid = 0.000080/0.000270\n",
            "44.87 epochs: MSE train/valid = 0.000079/0.000327\n",
            "49.86 epochs: MSE train/valid = 0.000117/0.000321\n",
            "54.84 epochs: MSE train/valid = 0.000080/0.000367\n",
            "59.83 epochs: MSE train/valid = 0.000067/0.000262\n",
            "64.81 epochs: MSE train/valid = 0.000078/0.000371\n",
            "69.80 epochs: MSE train/valid = 0.000090/0.000247\n",
            "74.78 epochs: MSE train/valid = 0.000069/0.000267\n",
            "79.77 epochs: MSE train/valid = 0.000065/0.000218\n",
            "84.76 epochs: MSE train/valid = 0.000073/0.000217\n",
            "89.74 epochs: MSE train/valid = 0.000084/0.000410\n",
            "94.73 epochs: MSE train/valid = 0.000064/0.000182\n",
            "99.71 epochs: MSE train/valid = 0.000071/0.000232\n"
          ],
          "name": "stdout"
        }
      ]
    },
    {
      "cell_type": "code",
      "metadata": {
        "colab": {
          "base_uri": "https://localhost:8080/"
        },
        "id": "LM67UvyAe0dx",
        "outputId": "ab49c5ca-b5ab-4eb8-f1eb-43c92c9c362e"
      },
      "source": [
        "y_train.shape"
      ],
      "execution_count": 14,
      "outputs": [
        {
          "output_type": "execute_result",
          "data": {
            "text/plain": [
              "(1394, 4)"
            ]
          },
          "metadata": {
            "tags": []
          },
          "execution_count": 14
        }
      ]
    },
    {
      "cell_type": "code",
      "metadata": {
        "colab": {
          "base_uri": "https://localhost:8080/",
          "height": 367
        },
        "id": "Jh8L04bce0hN",
        "outputId": "20e301af-3454-4b96-e557-476879e62d7f"
      },
      "source": [
        "ft = 0 # 0 = open, 1 = close, 2 = highest, 3 = lowest\r\n",
        "\r\n",
        "## show predictions\r\n",
        "plt.figure(figsize=(15, 5));\r\n",
        "plt.subplot(1,2,1);\r\n",
        "\r\n",
        "plt.plot(np.arange(y_train.shape[0]), y_train[:,ft], color='blue', label='train target')\r\n",
        "\r\n",
        "plt.plot(np.arange(y_train.shape[0], y_train.shape[0]+y_valid.shape[0]), y_valid[:,ft],\r\n",
        "         color='gray', label='valid target')\r\n",
        "\r\n",
        "plt.plot(np.arange(y_train.shape[0]+y_valid.shape[0],\r\n",
        "                   y_train.shape[0]+y_test.shape[0]+y_test.shape[0]),\r\n",
        "         y_test[:,ft], color='black', label='test target')\r\n",
        "\r\n",
        "plt.plot(np.arange(y_train_pred.shape[0]),y_train_pred[:,ft], color='red',\r\n",
        "         label='train prediction')\r\n",
        "\r\n",
        "plt.plot(np.arange(y_train_pred.shape[0], y_train_pred.shape[0]+y_valid_pred.shape[0]),\r\n",
        "         y_valid_pred[:,ft], color='orange', label='valid prediction')\r\n",
        "\r\n",
        "plt.plot(np.arange(y_train_pred.shape[0]+y_valid_pred.shape[0],\r\n",
        "                   y_train_pred.shape[0]+y_valid_pred.shape[0]+y_test_pred.shape[0]),\r\n",
        "         y_test_pred[:,ft], color='green', label='test prediction')\r\n",
        "\r\n",
        "plt.title('past and future stock prices')\r\n",
        "plt.xlabel('time [days]')\r\n",
        "plt.ylabel('normalized price')\r\n",
        "plt.legend(loc='best');\r\n",
        "\r\n",
        "plt.subplot(1,2,2);\r\n",
        "\r\n",
        "plt.plot(np.arange(y_train.shape[0], y_train.shape[0]+y_test.shape[0]),\r\n",
        "         y_test[:,ft], color='black', label='test target')\r\n",
        "\r\n",
        "plt.plot(np.arange(y_train_pred.shape[0], y_train_pred.shape[0]+y_test_pred.shape[0]),\r\n",
        "         y_test_pred[:,ft], color='green', label='test prediction')\r\n",
        "\r\n",
        "plt.title('future stock prices')\r\n",
        "plt.xlabel('time [days]')\r\n",
        "plt.ylabel('normalized price')\r\n",
        "plt.legend(loc='best');\r\n",
        "\r\n",
        "corr_price_development_train = np.sum(np.equal(np.sign(y_train[:,1]-y_train[:,0]),\r\n",
        "            np.sign(y_train_pred[:,1]-y_train_pred[:,0])).astype(int)) / y_train.shape[0]\r\n",
        "corr_price_development_valid = np.sum(np.equal(np.sign(y_valid[:,1]-y_valid[:,0]),\r\n",
        "            np.sign(y_valid_pred[:,1]-y_valid_pred[:,0])).astype(int)) / y_valid.shape[0]\r\n",
        "corr_price_development_test = np.sum(np.equal(np.sign(y_test[:,1]-y_test[:,0]),\r\n",
        "            np.sign(y_test_pred[:,1]-y_test_pred[:,0])).astype(int)) / y_test.shape[0]\r\n",
        "\r\n",
        "print('correct sign prediction for close - open price for train/valid/test: %.2f/%.2f/%.2f'%(\r\n",
        "    corr_price_development_train, corr_price_development_valid, corr_price_development_test))"
      ],
      "execution_count": 15,
      "outputs": [
        {
          "output_type": "stream",
          "text": [
            "correct sign prediction for close - open price for train/valid/test: 0.74/0.49/0.47\n"
          ],
          "name": "stdout"
        },
        {
          "output_type": "display_data",
          "data": {
            "image/png": "[encoded data removed]",
            "text/plain": [
              "<Figure size 1080x360 with 2 Axes>"
            ]
          },
          "metadata": {
            "tags": [],
            "needs_background": "light"
          }
        }
      ]
    },
    {
      "cell_type": "code",
      "metadata": {
        "id": "SGwJtyJQe0j5"
      },
      "source": [
        ""
      ],
      "execution_count": 13,
      "outputs": []
    },
    {
      "cell_type": "code",
      "metadata": {
        "id": "JCSOnKV0e0mc"
      },
      "source": [
        ""
      ],
      "execution_count": 13,
      "outputs": []
    },
    {
      "cell_type": "code",
      "metadata": {
        "id": "UGGX5FvPe0pP"
      },
      "source": [
        ""
      ],
      "execution_count": 13,
      "outputs": []
    },
    {
      "cell_type": "code",
      "metadata": {
        "id": "tl76yWkWe0r-"
      },
      "source": [
        ""
      ],
      "execution_count": 13,
      "outputs": []
    },
    {
      "cell_type": "code",
      "metadata": {
        "id": "M6vNp_Tde0uY"
      },
      "source": [
        ""
      ],
      "execution_count": 13,
      "outputs": []
    },
    {
      "cell_type": "code",
      "metadata": {
        "id": "ARoEJVqRe0xJ"
      },
      "source": [
        ""
      ],
      "execution_count": 13,
      "outputs": []
    },
    {
      "cell_type": "code",
      "metadata": {
        "id": "XMd8WpPLe0z-"
      },
      "source": [
        ""
      ],
      "execution_count": 13,
      "outputs": []
    },
    {
      "cell_type": "code",
      "metadata": {
        "id": "-LNrj25pe02V"
      },
      "source": [
        ""
      ],
      "execution_count": 13,
      "outputs": []
    },
    {
      "cell_type": "code",
      "metadata": {
        "id": "xvAwLHS9e048"
      },
      "source": [
        ""
      ],
      "execution_count": 13,
      "outputs": []
    },
    {
      "cell_type": "code",
      "metadata": {
        "id": "5PMkIgvse07g"
      },
      "source": [
        ""
      ],
      "execution_count": 13,
      "outputs": []
    },
    {
      "cell_type": "code",
      "metadata": {
        "id": "xcT8Wi_pe0-Y"
      },
      "source": [
        ""
      ],
      "execution_count": 13,
      "outputs": []
    },
    {
      "cell_type": "code",
      "metadata": {
        "id": "aRaps2Iwe1BQ"
      },
      "source": [
        ""
      ],
      "execution_count": 13,
      "outputs": []
    }
  ]
}